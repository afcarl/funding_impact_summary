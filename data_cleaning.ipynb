{
 "cells": [
  {
   "cell_type": "code",
   "execution_count": 1,
   "metadata": {},
   "outputs": [],
   "source": [
    "from astropy.table import Table"
   ]
  },
  {
   "cell_type": "code",
   "execution_count": 2,
   "metadata": {
    "collapsed": true
   },
   "outputs": [],
   "source": [
    "dat = Table.read('randomized data on attendees - Sheet1.csv')"
   ]
  },
  {
   "cell_type": "markdown",
   "metadata": {},
   "source": [
    "Replace any blanks with the word \"blank\""
   ]
  },
  {
   "cell_type": "code",
   "execution_count": 3,
   "metadata": {},
   "outputs": [
    {
     "data": {
      "text/plain": [
       "['Randomized ID',\n",
       " 'Have you attended an unconference before?',\n",
       " 'Have you attended a Python in Astronomy workshop before?',\n",
       " 'In terms of gender identity, do you self-identify as an underrepresented minority in astronomy/astrophysics?',\n",
       " 'In terms of racial or ethnic identity, do you self-identify as an underrepresented minority in astronomy/astrophysics?',\n",
       " 'Will you be likely to need financial support from us to attend the meeting?',\n",
       " 'Received funding?',\n",
       " 'Registered?',\n",
       " 'Geographic area',\n",
       " 'Position']"
      ]
     },
     "execution_count": 3,
     "metadata": {},
     "output_type": "execute_result"
    }
   ],
   "source": [
    "dat.colnames"
   ]
  },
  {
   "cell_type": "markdown",
   "metadata": {},
   "source": [
    "Yuck, rename these columns first..."
   ]
  },
  {
   "cell_type": "code",
   "execution_count": 4,
   "metadata": {},
   "outputs": [],
   "source": [
    "dat.rename_column('Randomized ID', 'ID')\n",
    "dat.rename_column('Have you attended an unconference before?', 'unconference')\n",
    "dat.rename_column('Have you attended a Python in Astronomy workshop before?', 'pyastro')\n",
    "dat.rename_column('In terms of gender identity, do you self-identify as an underrepresented minority in astronomy/astrophysics?', 'gender')\n",
    "dat.rename_column('In terms of racial or ethnic identity, do you self-identify as an underrepresented minority in astronomy/astrophysics?', 'race')\n",
    "dat.rename_column('Will you be likely to need financial support from us to attend the meeting?', 'support_requested')\n",
    "dat.rename_column('Received funding?', 'funded')\n",
    "dat.rename_column('Registered?', 'registered')\n",
    "dat.rename_column('Geographic area', 'location')\n",
    "dat.rename_column('Position', 'position')"
   ]
  },
  {
   "cell_type": "code",
   "execution_count": 5,
   "metadata": {},
   "outputs": [],
   "source": [
    "dat['gender'].fill_value = 'BNK'\n",
    "dat['race'].fill_value = 'BNK'"
   ]
  },
  {
   "cell_type": "code",
   "execution_count": 6,
   "metadata": {},
   "outputs": [
    {
     "data": {
      "text/html": [
       "&lt;Table length=285&gt;\n",
       "<table id=\"table4511677128\" class=\"table-striped table-bordered table-condensed\">\n",
       "<thead><tr><th>ID</th><th>unconference</th><th>pyastro</th><th>gender</th><th>race</th><th>support_requested</th><th>funded</th><th>registered</th><th>location</th><th>position</th></tr></thead>\n",
       "<thead><tr><th>int64</th><th>str3</th><th>str3</th><th>str3</th><th>str3</th><th>str15</th><th>int64</th><th>int64</th><th>str15</th><th>str48</th></tr></thead>\n",
       "<tr><td>1</td><td>Yes</td><td>No</td><td>No</td><td>No</td><td>Full Support</td><td>0</td><td>0</td><td>Asia</td><td>Undergraduate/College student</td></tr>\n",
       "<tr><td>2</td><td>Yes</td><td>No</td><td>No</td><td>No</td><td>No Support</td><td>0</td><td>1</td><td>Western Europe</td><td>Graduate/Postgraduate student</td></tr>\n",
       "<tr><td>3</td><td>No</td><td>No</td><td>Yes</td><td>Yes</td><td>Partial Support</td><td>0</td><td>0</td><td>North America</td><td>Graduate/Postgraduate student</td></tr>\n",
       "<tr><td>4</td><td>No</td><td>No</td><td>No</td><td>No</td><td>Full Support</td><td>0</td><td>1</td><td>Asia</td><td>Undergraduate/College student</td></tr>\n",
       "<tr><td>5</td><td>No</td><td>No</td><td>No</td><td>No</td><td>No Support</td><td>0</td><td>0</td><td>Western Europe</td><td>Undergraduate/College student</td></tr>\n",
       "<tr><td>6</td><td>Yes</td><td>Yes</td><td>Yes</td><td>No</td><td>Full Support</td><td>0</td><td>0</td><td>Western Europe</td><td>Graduate/Postgraduate student</td></tr>\n",
       "<tr><td>7</td><td>No</td><td>Yes</td><td>BNK</td><td>BNK</td><td>Full Support</td><td>0</td><td>0</td><td>South America</td><td>Postdoc</td></tr>\n",
       "<tr><td>8</td><td>Yes</td><td>No</td><td>No</td><td>No</td><td>Partial Support</td><td>0</td><td>0</td><td>Western Europe</td><td>(Research) Staff</td></tr>\n",
       "<tr><td>9</td><td>Yes</td><td>Yes</td><td>No</td><td>No</td><td>No Support</td><td>0</td><td>1</td><td>North America</td><td>(Research) Staff</td></tr>\n",
       "<tr><td>10</td><td>No</td><td>No</td><td>No</td><td>No</td><td>Full Support</td><td>0</td><td>0</td><td>North America</td><td>Graduate/Postgraduate student</td></tr>\n",
       "<tr><td>...</td><td>...</td><td>...</td><td>...</td><td>...</td><td>...</td><td>...</td><td>...</td><td>...</td><td>...</td></tr>\n",
       "<tr><td>276</td><td>No</td><td>No</td><td>Yes</td><td>BNK</td><td>Full Support</td><td>0</td><td>0</td><td>Asia</td><td>Student researcher completed Masters last summer</td></tr>\n",
       "<tr><td>277</td><td>Yes</td><td>No</td><td>No</td><td>BNK</td><td>Full Support</td><td>0</td><td>0</td><td>Africa</td><td>Graduate/Postgraduate student</td></tr>\n",
       "<tr><td>278</td><td>No</td><td>No</td><td>No</td><td>No</td><td>No Support</td><td>0</td><td>0</td><td>Western Europe</td><td>Graduate/Postgraduate student</td></tr>\n",
       "<tr><td>279</td><td>No</td><td>No</td><td>No</td><td>Yes</td><td>Partial Support</td><td>0</td><td>0</td><td>Western Europe</td><td>Graduate/Postgraduate student</td></tr>\n",
       "<tr><td>280</td><td>No</td><td>No</td><td>No</td><td>Yes</td><td>Full Support</td><td>1</td><td>1</td><td>Western Europe</td><td>Graduate/Postgraduate student</td></tr>\n",
       "<tr><td>281</td><td>Yes</td><td>Yes</td><td>No</td><td>No</td><td>No Support</td><td>0</td><td>1</td><td>Western Europe</td><td>Non-Academic</td></tr>\n",
       "<tr><td>282</td><td>No</td><td>No</td><td>Yes</td><td>No</td><td>Full Support</td><td>0</td><td>0</td><td>Asia</td><td>(Research) Staff</td></tr>\n",
       "<tr><td>283</td><td>No</td><td>No</td><td>Yes</td><td>Yes</td><td>Full Support</td><td>0</td><td>0</td><td>North America</td><td>Graduate/Postgraduate student</td></tr>\n",
       "<tr><td>284</td><td>No</td><td>No</td><td>No</td><td>No</td><td>Partial Support</td><td>0</td><td>0</td><td>Western Europe</td><td>Graduate/Postgraduate student</td></tr>\n",
       "<tr><td>285</td><td>No</td><td>No</td><td>No</td><td>No</td><td>Partial Support</td><td>0</td><td>0</td><td>Western Europe</td><td>Graduate/Postgraduate student</td></tr>\n",
       "</table>"
      ],
      "text/plain": [
       "<Table length=285>\n",
       "  ID  unconference ...                     position                    \n",
       "int64     str3     ...                      str48                      \n",
       "----- ------------ ... ------------------------------------------------\n",
       "    1          Yes ...                    Undergraduate/College student\n",
       "    2          Yes ...                    Graduate/Postgraduate student\n",
       "    3           No ...                    Graduate/Postgraduate student\n",
       "    4           No ...                    Undergraduate/College student\n",
       "    5           No ...                    Undergraduate/College student\n",
       "    6          Yes ...                    Graduate/Postgraduate student\n",
       "    7           No ...                                          Postdoc\n",
       "    8          Yes ...                                 (Research) Staff\n",
       "    9          Yes ...                                 (Research) Staff\n",
       "   10           No ...                    Graduate/Postgraduate student\n",
       "  ...          ... ...                                              ...\n",
       "  276           No ... Student researcher completed Masters last summer\n",
       "  277          Yes ...                    Graduate/Postgraduate student\n",
       "  278           No ...                    Graduate/Postgraduate student\n",
       "  279           No ...                    Graduate/Postgraduate student\n",
       "  280           No ...                    Graduate/Postgraduate student\n",
       "  281          Yes ...                                     Non-Academic\n",
       "  282           No ...                                 (Research) Staff\n",
       "  283           No ...                    Graduate/Postgraduate student\n",
       "  284           No ...                    Graduate/Postgraduate student\n",
       "  285           No ...                    Graduate/Postgraduate student"
      ]
     },
     "execution_count": 6,
     "metadata": {},
     "output_type": "execute_result"
    }
   ],
   "source": [
    "dat.filled()"
   ]
  },
  {
   "cell_type": "code",
   "execution_count": 7,
   "metadata": {},
   "outputs": [],
   "source": [
    "filled = dat.filled()"
   ]
  },
  {
   "cell_type": "code",
   "execution_count": 8,
   "metadata": {},
   "outputs": [
    {
     "name": "stdout",
     "output_type": "stream",
     "text": [
      "ID (array([], dtype=int64),)\n",
      "unconference (array([], dtype=int64),)\n",
      "pyastro (array([], dtype=int64),)\n",
      "gender (array([  6,  13,  16,  17,  26,  38,  40,  44,  51,  59,  62,  67,  72,\n",
      "        78,  84,  90,  91,  92,  98, 100, 122, 124, 141, 145, 158, 160,\n",
      "       169, 172, 177, 178, 188, 189, 190, 192, 194, 197, 204, 208, 214,\n",
      "       226, 227, 228, 230, 232, 236, 238, 239, 249, 255, 258, 260, 264, 270]),)\n",
      "race (array([  6,  13,  16,  17,  36,  38,  40,  44,  45,  51,  52,  59,  62,\n",
      "        67,  72,  78,  88,  90,  91,  92, 100, 122, 141, 145, 146, 152,\n",
      "       158, 160, 165, 169, 172, 177, 188, 189, 190, 197, 204, 208, 214,\n",
      "       224, 227, 228, 230, 232, 236, 238, 239, 249, 253, 255, 258, 260,\n",
      "       264, 265, 269, 270, 275, 276]),)\n",
      "support_requested (array([], dtype=int64),)\n",
      "funded (array([], dtype=int64),)\n",
      "registered (array([], dtype=int64),)\n",
      "location (array([], dtype=int64),)\n",
      "position (array([], dtype=int64),)\n"
     ]
    }
   ],
   "source": [
    "for c in dat.colnames:\n",
    "    print(c, dat[c].mask.nonzero())"
   ]
  },
  {
   "cell_type": "code",
   "execution_count": 9,
   "metadata": {},
   "outputs": [],
   "source": [
    "filled.write('cleaned.csv')"
   ]
  },
  {
   "cell_type": "code",
   "execution_count": null,
   "metadata": {
    "collapsed": true
   },
   "outputs": [],
   "source": []
  }
 ],
 "metadata": {
  "kernelspec": {
   "display_name": "Python 3",
   "language": "python",
   "name": "python3"
  },
  "language_info": {
   "codemirror_mode": {
    "name": "ipython",
    "version": 3
   },
   "file_extension": ".py",
   "mimetype": "text/x-python",
   "name": "python",
   "nbconvert_exporter": "python",
   "pygments_lexer": "ipython3",
   "version": "3.5.2"
  },
  "widgets": {
   "state": {},
   "version": "1.1.2"
  }
 },
 "nbformat": 4,
 "nbformat_minor": 1
}
