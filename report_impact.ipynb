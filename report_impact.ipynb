{
 "cells": [
  {
   "cell_type": "markdown",
   "metadata": {},
   "source": [
    "# Report on Grant for Python in Astronomy 2017\n",
    "\n",
    "Python in Astronomy received enough support to provide over $13,000 of support to 17 of the 55 participants. All of the grant money was used for travel support.\n",
    "\n",
    "Our motivation in approaching you for funding was to maximize the diversity of the participants in the workshop. As we explain below, your grant was critical to enabling diverse participation and had a measurable impact on the distribution of participants.\n",
    "\n",
    "Our committement to that goal began with our participant selection process. We asked applicants to the workshop to indicate four factors we believed were relevant to increasing diversity, and set explicit targets for selected participants:\n",
    "\n",
    "+ Does the applicant self-identify as a gender underrepresented in astronomy? Target: 50% yes, 50% no.\n",
    "+ Does the applicant self-identify as a member of a race or ethnicity underrepresented in astronomy? Target: 40% yes, 60% no.\n",
    "+ Geographical location of the applicant. Target: 1/3 each from North America, Western Europe, and all other regions.\n",
    "+ Career stage of the applicant. Target: Roguhly 50% early-career (undergraduate or graduate student, or postdoc), with the remainder roughly evenly divided between reaseearch staff, teaching faculty, and other (which included independent software developers).\n",
    "\n",
    "The group of participants initially selected based on these criteria matched the criteria reasonably well, though the fraction of selected participants who answered yes to the gender question was 40%, rather than the target of 50%, and the fraction of participants who answered yes to the ethnicity was 35% rather than 40%.\n",
    "\n",
    "More of those who indentified as underrepresented indicated they needed full or partial support to attend (80% required support) than did those who did not identify as underrepresented (60% required support), so we expected that the availability of travel support would affect the range of participants. The charts below clearly indicate that financial support improved the diversity of participants in all of the ways we hoped it would:\n",
    "\n",
    "  |  |  |  |  \n",
    "--|--|--|--|\n",
    "![gender response by travel support](images/gender_impact.png) | ![ethnicity response by travel support](images/ethnicity_impact.png) | ![geographical location by travel support](images/location_impact.png) | ![career stage by travel support](images/career_stage_impact.png) |\n",
    "\n",
    "\n",
    "The distributions labeled \"No Travel Support\" are a reasonable proxy for what the distribution of participation would have been without your support, despite our efforts to explicitly include targets for diversity in our selection criteria. The need for support effectively acts as an independent selection criterion.\n",
    "\n",
    "The particpants who received travel support exceeeded our target for gender diversity, came much closer to our target for ethnic diversity, enabled many more participants from non-North Amercian, non-Western European locations, and enlarged the fraction of participants who were graduate students. \n",
    "\n",
    "Of the 55 participants, 17 received travel support, so to visualize the net impact of travel support it is useful to compare those registered participants without travel support to the pool of all registered participants. The charts below do that. In each of the cases travel support moved the distribution in the direction we had hoped it would.\n",
    "\n",
    "  |  |  |  |  \n",
    "--|--|--|--|\n",
    "![gender response by travel support](images/gender_impact_overall.png) | ![ethnicity response by travel support](images/ethnicity_impact_overall.png) | ![geographical location by travel support](images/location_impact_overall.png) | ![career stage by travel support](images/career_stage_impact_overall.png) |"
   ]
  },
  {
   "cell_type": "code",
   "execution_count": null,
   "metadata": {
    "collapsed": true
   },
   "outputs": [],
   "source": []
  }
 ],
 "metadata": {
  "kernelspec": {
   "display_name": "Python 3",
   "language": "python",
   "name": "python3"
  },
  "language_info": {
   "codemirror_mode": {
    "name": "ipython",
    "version": 3
   },
   "file_extension": ".py",
   "mimetype": "text/x-python",
   "name": "python",
   "nbconvert_exporter": "python",
   "pygments_lexer": "ipython3",
   "version": "3.5.2"
  },
  "widgets": {
   "state": {},
   "version": "1.1.2"
  }
 },
 "nbformat": 4,
 "nbformat_minor": 1
}
